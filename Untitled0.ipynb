{
  "nbformat": 4,
  "nbformat_minor": 0,
  "metadata": {
    "colab": {
      "provenance": [],
      "authorship_tag": "ABX9TyOtMhoijNSqbnRHfFMN9FQN",
      "include_colab_link": true
    },
    "kernelspec": {
      "name": "python3",
      "display_name": "Python 3"
    },
    "language_info": {
      "name": "python"
    }
  },
  "cells": [
    {
      "cell_type": "markdown",
      "metadata": {
        "id": "view-in-github",
        "colab_type": "text"
      },
      "source": [
        "<a href=\"https://colab.research.google.com/github/juanleon888/M5l3/blob/main/Untitled0.ipynb\" target=\"_parent\"><img src=\"https://colab.research.google.com/assets/colab-badge.svg\" alt=\"Open In Colab\"/></a>"
      ]
    },
    {
      "cell_type": "markdown",
      "source": [],
      "metadata": {
        "id": "nL-guLAVundz"
      }
    },
    {
      "cell_type": "markdown",
      "source": [
        " summarization"
      ],
      "metadata": {
        "id": "PXBJBRnLupj1"
      }
    },
    {
      "cell_type": "code",
      "source": [
        "\n",
        "import nltk\n",
        "nltk.download('punkt')\n",
        "nltk.download('stopwords')\n",
        "texto = \"\"\"aca va el texto que hay que resumir\"\"\"\n",
        "resumen = summariztion(texto, sent_number=3)\n",
        "print(resumen)\n",
        "def summariztion(text, sent_number=3):\n",
        "  sentences = sent_tokenize(text, language='spanish')\n",
        "  stop_words = set(stopwords.words('spanish'))\n",
        "  words = word_tokenize(text)\n",
        "  words = [word.lower() for word in words if word.isalpha()]\n",
        "  words = [word for word in words if word not in stop_words]\n",
        "  lemmatizer = WordNetLemmatizer()\n",
        "  words = [lemmatizer.lemmatize(word) for word in words]\n",
        "  freq_dist = FreqDist(words)\n",
        "  sentence_scores = {}\n",
        "\n",
        "  for i, sentence in enumerate(sentences):\n",
        "      sentence_words = word_tokenize(sentence.lower())\n",
        "      sentence_score = sum([freq_dist[word] for word in sentence_words if word in freq_dist])\n",
        "\n",
        "      sentence_scores[i] = sentence_score\n",
        "\n",
        "  sorted_scores = sorted(sentence_scores.items(), key=lambda x: x[1], reverse=True)\n",
        "  selected_sentences = sorted_scores[:sent_number]\n",
        "  selected_sentences = sorted(selected_sentences)\n",
        "  summary = ' '.join([sentences[i] for i, _ in selected_sentences])\n",
        "  return summary"
      ],
      "metadata": {
        "id": "Vm8Rr7ykvH8B"
      },
      "execution_count": null,
      "outputs": []
    },
    {
      "cell_type": "code",
      "execution_count": null,
      "metadata": {
        "id": "uQSnRV8ZNZr_"
      },
      "outputs": [],
      "source": [
        "# Enlace del sitio web del cual se quieren obtener los datos\n",
        "url = \"https://www.xataka.com/tag/ciencia-y-tecnologia\" # Ingresar el sitio web como string"
      ]
    }
  ]
}